{
 "cells": [
  {
   "cell_type": "markdown",
   "metadata": {},
   "source": [
    "# REIT STOCK ANALYSIS"
   ]
  },
  {
   "cell_type": "markdown",
   "metadata": {},
   "source": [
    "In this project, you will analyze Real Estate Investment Trusts, commonly known as REITs. REITs are companies that own or operate real estate that produces income. REITs, like the stocks of regular public companies, are traded on different stock exchanges. Investing in a REIT allows you to invest in portfolios of real estate assets the same way you can invest in a company by buying its stock.\n",
    "\n",
    "Using financial statistics and NumPy you will analyze two REITs: [Sabra Health Care REIT Inc. (NASDAQ: SBRA)](https://finance.yahoo.com/quote/SBRA/), which invests in health care real estate, and [Equity Residential (NASDAQ:EQR)](https://finance.yahoo.com/quote/EQR/), which invests in rental apartment properties."
   ]
  },
  {
   "cell_type": "markdown",
   "metadata": {},
   "source": [
    "The time period for analysis we will be using is `Jan 1 2018` to `Dec 31 2018`. The REIT data for SBRA (`SBRA.csv`) and EQR (`EQR.csv`) can be found in the same folder as this file."
   ]
  },
  {
   "cell_type": "markdown",
   "metadata": {},
   "source": [
    "1. Import the numpy module as np"
   ]
  },
  {
   "cell_type": "code",
   "execution_count": 2,
   "metadata": {},
   "outputs": [],
   "source": [
    "import numpy as np"
   ]
  },
  {
   "cell_type": "markdown",
   "metadata": {},
   "source": [
    "2. Load the adjusted closings for SBRA"
   ]
  },
  {
   "cell_type": "code",
   "execution_count": 3,
   "metadata": {},
   "outputs": [
    {
     "name": "stdout",
     "output_type": "stream",
     "text": [
      "[15.36233  16.012386 16.528606 16.882313 17.427212 17.522808 17.513248\n",
      " 17.427212 17.264698 17.417652 17.847836 18.105947 18.344938 18.306698\n",
      " 18.497892 18.77512  19.09059  19.386936 19.377378 19.55901  19.635489\n",
      " 19.425177 19.664167 19.539892 19.635489 19.80756  19.654606 19.60681\n",
      " 19.358257 19.32958  19.339357 19.544678 19.388243 19.241585 19.222029\n",
      " 19.143812 18.635395 18.381187 18.038986 17.716337 17.31547  17.247028\n",
      " 17.256807 17.149258 17.119926 17.071039 17.383911 17.608788 17.941214\n",
      " 17.970543 17.892326 17.726112 17.765223 17.980322 18.58651  18.293192\n",
      " 18.449629 18.762501 18.870049 19.192698 19.036261 18.899382 18.879826\n",
      " 18.694059 18.762501 18.958044 18.870049 18.801609 19.04604  19.241585\n",
      " 19.241585 19.222029 18.821163 18.361633 18.713614 18.410519 18.713614\n",
      " 18.909159 18.909159 19.153589 18.967821 19.124256 19.094927 19.143812\n",
      " 19.554455 19.456682 19.143812 19.319801 18.840717 19.310024 19.241585\n",
      " 19.417574 19.574011 19.75     19.709999 19.530001 19.73     19.700001\n",
      " 19.709999 19.75     19.540001 19.219999 19.370001 19.290001 19.24\n",
      " 19.1      19.32     19.450001 19.49     19.32     19.290001 19.32\n",
      " 19.48     19.43     19.790001 19.58     20.139999 20.049999 19.57\n",
      " 19.309999 19.26     18.870001 19.450001 19.690001]\n"
     ]
    }
   ],
   "source": [
    "adj_closings_sbra = np.genfromtxt('SBRA.csv', skip_header=1, usecols = 5, delimiter=',')\n",
    "print(adj_closings_sbra)"
   ]
  },
  {
   "cell_type": "markdown",
   "metadata": {},
   "source": [
    "3. Load the adjusted closings for EQR"
   ]
  },
  {
   "cell_type": "code",
   "execution_count": 49,
   "metadata": {},
   "outputs": [],
   "source": [
    "adj_closings_eqr = np.genfromtxt('EQR.csv', skip_header=1, usecols = 5, delimiter=',')"
   ]
  },
  {
   "cell_type": "markdown",
   "metadata": {},
   "source": [
    "## Simple Rate of Return Function"
   ]
  },
  {
   "cell_type": "markdown",
   "metadata": {},
   "source": [
    "4. To calculate the daily rate of return for the SBRA stock, we need the daily adjusted closing price. The formula we are using for the daily rate of return is out[n] = a[n+1] - a[n] "
   ]
  },
  {
   "cell_type": "markdown",
   "metadata": {},
   "source": [
    "5. Create a function that returns the daily rate of return\n",
    "\n",
    "    step 1. define a function named `rate_of_return`\n",
    "    \n",
    "    step 2. create parameter for  `adj_closings`\n",
    "    \n",
    "    step 3. Within the function use np.diff() and set it to the variable `daily_simple_ror`\n",
    "    \n",
    "    step 4. return `daily_simple_ror`"
   ]
  },
  {
   "cell_type": "code",
   "execution_count": 50,
   "metadata": {},
   "outputs": [],
   "source": [
    "def simple_rate_of_return(adj_closings):\n",
    "    daily_simple_ror = np.diff(adj_closings)\n",
    "    return daily_simple_ror"
   ]
  },
  {
   "cell_type": "markdown",
   "metadata": {},
   "source": [
    "## Calculate Daily Rate of Return for SBRA"
   ]
  },
  {
   "cell_type": "markdown",
   "metadata": {},
   "source": [
    "6. Call the function `simple_rate_of_return` with the arguments `adj_closings_sbra`. Then print the results. "
   ]
  },
  {
   "cell_type": "code",
   "execution_count": 51,
   "metadata": {},
   "outputs": [
    {
     "name": "stdout",
     "output_type": "stream",
     "text": [
      "[ 0.650056  0.51622   0.353707  0.544899  0.095596 -0.00956  -0.086036\n",
      " -0.162514  0.152954  0.430184  0.258111  0.238991 -0.03824   0.191194\n",
      "  0.277228  0.31547   0.296346 -0.009558  0.181632  0.076479 -0.210312\n",
      "  0.23899  -0.124275  0.095597  0.172071 -0.152954 -0.047796 -0.248553\n",
      " -0.028677  0.009777  0.205321 -0.156435 -0.146658 -0.019556 -0.078217\n",
      " -0.508417 -0.254208 -0.342201 -0.322649 -0.400867 -0.068442  0.009779\n",
      " -0.107549 -0.029332 -0.048887  0.312872  0.224877  0.332426  0.029329\n",
      " -0.078217 -0.166214  0.039111  0.215099  0.606188 -0.293318  0.156437\n",
      "  0.312872  0.107548  0.322649 -0.156437 -0.136879 -0.019556 -0.185767\n",
      "  0.068442  0.195543 -0.087995 -0.06844   0.244431  0.195545  0.\n",
      " -0.019556 -0.400866 -0.45953   0.351981 -0.303095  0.303095  0.195545\n",
      "  0.        0.24443  -0.185768  0.156435 -0.029329  0.048885  0.410643\n",
      " -0.097773 -0.31287   0.175989 -0.479084  0.469307 -0.068439  0.175989\n",
      "  0.156437  0.175989 -0.040001 -0.179998  0.199999 -0.029999  0.009998\n",
      "  0.040001 -0.209999 -0.320002  0.150002 -0.08     -0.050001 -0.14\n",
      "  0.22      0.130001  0.039999 -0.17     -0.029999  0.029999  0.16\n",
      " -0.05      0.360001 -0.210001  0.559999 -0.09     -0.479999 -0.260001\n",
      " -0.049999 -0.389999  0.58      0.24    ]\n"
     ]
    }
   ],
   "source": [
    "daily_simple_returns_sbra = simple_rate_of_return(adj_closings_sbra)\n",
    "print(daily_simple_returns_sbra)"
   ]
  },
  {
   "cell_type": "markdown",
   "metadata": {},
   "source": [
    "## Calculate Daily Rate of Return for EQR"
   ]
  },
  {
   "cell_type": "markdown",
   "metadata": {},
   "source": [
    "7. Call the function `simple_rate_of_return` with the arguments `adj_closings_eqr`. Then print the results. "
   ]
  },
  {
   "cell_type": "code",
   "execution_count": 52,
   "metadata": {
    "scrolled": true
   },
   "outputs": [
    {
     "name": "stdout",
     "output_type": "stream",
     "text": [
      "[ 0.393986  0.393982  0.531872  1.201652  0.        1.073601  0.137886\n",
      "  0.078797  0.817505  0.610679  0.817513  0.20684   0.275788 -0.059105\n",
      "  0.009857  0.315178  1.03421   0.640221 -0.364441  0.551574 -0.531868\n",
      "  0.758416  0.157585  0.049247  0.531884 -0.098496  0.019692 -0.906151\n",
      "  0.738708 -0.167434  0.088638  0.315186 -0.837204  1.162246  0.364434\n",
      " -0.719025  0.21669  -0.384125  0.354584 -0.187149  0.472786 -0.049256\n",
      " -0.374275 -0.118194  0.206833  0.787971  0.600815 -0.137886  0.147735\n",
      " -0.295478 -0.768265 -0.472786  0.118202  1.15239   0.176666  0.069473\n",
      "  0.664971 -0.158799  0.645119 -0.307671 -0.337448  0.704674 -0.297752\n",
      " -0.109177  0.327522 -0.049621 -0.168724  0.952789  0.337448  0.754295\n",
      "  0.148873 -1.855957 -1.429192  0.774147 -0.893249  0.784073  0.506172\n",
      "  0.496246  0.228272 -0.893242  1.111587  0.099251 -0.119095  0.188568\n",
      " -0.377144 -1.429191 -0.327515  0.377144  1.002419  0.009918 -0.029778\n",
      "  0.377159  0.615334 -0.188568 -0.863464  0.605415  0.277901  0.466468\n",
      "  0.079399 -0.972641 -0.535949  0.14888   0.744369 -0.32753  -0.754287\n",
      "  1.756706  0.53595   0.188575 -0.148872 -0.029778 -0.148872  0.277893\n",
      "  0.327522  0.406922 -0.615341  0.377143  0.396996 -0.793991  0.238197\n",
      " -1.349785 -1.250541  0.528     0.309997]\n"
     ]
    }
   ],
   "source": [
    "daily_simple_returns_eqr = simple_rate_of_return(adj_closings_eqr)\n",
    "print(daily_simple_returns_eqr)"
   ]
  },
  {
   "cell_type": "markdown",
   "metadata": {},
   "source": [
    "## Calculate Average Daily Return for SBRA"
   ]
  },
  {
   "cell_type": "markdown",
   "metadata": {},
   "source": [
    "8. Use `np.mean()` with the argument `daily_simple_returns_sbra` to calculate the average daily return for SBRA. Then set it to the variable name `average_daily_simple_return_sbra`"
   ]
  },
  {
   "cell_type": "code",
   "execution_count": 55,
   "metadata": {},
   "outputs": [
    {
     "name": "stdout",
     "output_type": "stream",
     "text": [
      "average_daily_simple_return_sbra = 0.03518431707317072\n"
     ]
    }
   ],
   "source": [
    "average_daily_simple_return_sbra = np.mean(daily_simple_returns_sbra)\n",
    "print('average_daily_simple_return_sbra =', average_daily_simple_return_sbra)"
   ]
  },
  {
   "cell_type": "markdown",
   "metadata": {},
   "source": [
    "## Calculate Average Daily Return for EQR"
   ]
  },
  {
   "cell_type": "markdown",
   "metadata": {},
   "source": [
    "9. Use `np.mean()` with the argument `daily_simple_returns_eqr` to calculate the average daily return for EQR. Then set it to the variable name `average_daily_simple_return_eqr`"
   ]
  },
  {
   "cell_type": "code",
   "execution_count": 56,
   "metadata": {},
   "outputs": [
    {
     "name": "stdout",
     "output_type": "stream",
     "text": [
      "average_daily_simple_return_eqr = 0.10666117073170736\n"
     ]
    }
   ],
   "source": [
    "average_daily_simple_return_eqr = np.mean(daily_simple_returns_eqr)\n",
    "print('average_daily_simple_return_eqr =', average_daily_simple_return_eqr)"
   ]
  },
  {
   "cell_type": "markdown",
   "metadata": {},
   "source": [
    "## Compare the Average Daily Return between EQR and SBRA"
   ]
  },
  {
   "cell_type": "markdown",
   "metadata": {},
   "source": [
    "10. Based on the average daily simple returns of EQR and SBRA, which stock is more likely to be profitable in the future?"
   ]
  },
  {
   "cell_type": "markdown",
   "metadata": {},
   "source": []
  },
  {
   "cell_type": "markdown",
   "metadata": {},
   "source": [
    "## Daily Log Returns Function"
   ]
  },
  {
   "cell_type": "markdown",
   "metadata": {},
   "source": [
    "11. Create a function that returns the daily rate of return\n",
    "\n",
    "    step 1. define a function named log_returns\n",
    "    \n",
    "    step 2. create parameter for  `adj_closings`\n",
    "    \n",
    "    step 3. use np.log() to get the log of each adjusted closing price and set it to the variable `log_adj_closings`\n",
    "    \n",
    "    step 4. use np.diff() to get the diff of each daily log adjusted closing price and set it to the variable `daily_log_returns`\n",
    "    \n",
    "    step 5. return `daily_log_returns`"
   ]
  },
  {
   "cell_type": "code",
   "execution_count": 57,
   "metadata": {},
   "outputs": [],
   "source": [
    "def log_returns(adj_closings):\n",
    "    log_adj_closings = np.log(adj_closings)\n",
    "    daily_log_returns = np.diff(log_adj_closings)\n",
    "    return daily_log_returns"
   ]
  },
  {
   "cell_type": "markdown",
   "metadata": {},
   "source": [
    "## Calculate Daily Log Returns for SBRA"
   ]
  },
  {
   "cell_type": "markdown",
   "metadata": {},
   "source": [
    "12. Call the function `log_returns` with the arguments `adj_closings_sbra`. Set it to the variable `daily_log_returns_sbra`. Then print the results. "
   ]
  },
  {
   "cell_type": "code",
   "execution_count": 71,
   "metadata": {
    "scrolled": true
   },
   "outputs": [
    {
     "name": "stdout",
     "output_type": "stream",
     "text": [
      "daily_log_returns_sbra:\n",
      " [ 0.04144414  0.03173003  0.02117393  0.03176639  0.00547045 -0.00054572\n",
      " -0.00492473 -0.00936905  0.00882034  0.02439809  0.01435818  0.01311323\n",
      " -0.00208667  0.01038978  0.01487581  0.01666295  0.01540389 -0.00049313\n",
      "  0.00932975  0.00390254 -0.01076858  0.01222804 -0.00633993  0.00488047\n",
      "  0.00872509 -0.00775197 -0.00243476 -0.01275791 -0.00148248  0.00050568\n",
      "  0.01056078 -0.00803617 -0.00759303 -0.00101686 -0.00407743 -0.0269168\n",
      " -0.01373503 -0.01879239 -0.0180481  -0.02288689 -0.00396048  0.00056684\n",
      " -0.00625177 -0.00171186 -0.00285965  0.01816172  0.01285297  0.01870243\n",
      "  0.00163339 -0.00436201 -0.0093331   0.00220398  0.01203516  0.03315811\n",
      " -0.01590708  0.00851529  0.01681599  0.00571571  0.01695394 -0.00818426\n",
      " -0.00721641 -0.00103528 -0.00988817  0.00365448  0.01036808 -0.00465237\n",
      " -0.0036335   0.01291675  0.01021462  0.         -0.00101686 -0.02107504\n",
      " -0.0247186   0.01898796 -0.01632909  0.01632909  0.01039513  0.\n",
      "  0.01284371 -0.0097462   0.00821357 -0.00153478  0.00255683  0.02122361\n",
      " -0.00501258 -0.01621103  0.009151   -0.0251102   0.02460401 -0.00355052\n",
      "  0.00910471  0.00802418  0.00895077 -0.00202742 -0.00917427  0.01018852\n",
      " -0.00152163  0.00050738  0.00202742 -0.01068979 -0.01651235  0.00777418\n",
      " -0.00413865 -0.00259543 -0.00730311  0.01145249  0.00670629  0.00205439\n",
      " -0.00876068 -0.00155395  0.00155395  0.00824747 -0.00257003  0.01835855\n",
      " -0.01066817  0.0281992  -0.00447873 -0.02423132 -0.01337474 -0.00259264\n",
      " -0.02045699  0.03027371  0.01226382]\n"
     ]
    }
   ],
   "source": [
    "daily_log_returns_sbra = log_returns(adj_closings_sbra)\n",
    "print('daily_log_returns_sbra:\\n', daily_log_returns_sbra)"
   ]
  },
  {
   "cell_type": "markdown",
   "metadata": {},
   "source": [
    "## Calculate Daily Log Returns for EQR"
   ]
  },
  {
   "cell_type": "markdown",
   "metadata": {},
   "source": [
    "13. Call the function `log_returns` with the arguments `adj_closings_eqr`. Set it to the variable `daily_log_returns_eqr`. Then print the results. "
   ]
  },
  {
   "cell_type": "code",
   "execution_count": 72,
   "metadata": {},
   "outputs": [
    {
     "name": "stdout",
     "output_type": "stream",
     "text": [
      "daily_log_returns_eqr:\n",
      " [ 0.006254    0.00621507  0.00832947  0.01856708  0.          0.01630188\n",
      "  0.00207458  0.00118362  0.01219786  0.00901573  0.01194346  0.00299935\n",
      "  0.00398522 -0.00085275  0.00014226  0.00453827  0.01474861  0.00902221\n",
      " -0.00512584  0.00774768 -0.00746985  0.01063474  0.00219559  0.00068516\n",
      "  0.00737016 -0.00136074  0.0002722  -0.01260281  0.01028593 -0.00232213\n",
      "  0.00122999  0.00436147 -0.01162714  0.01610517  0.00499698 -0.00988309\n",
      "  0.00298873 -0.00530423  0.00489731 -0.0025818   0.00650949 -0.0006762\n",
      " -0.00515315 -0.00163287  0.00285568  0.01080518  0.00816103 -0.00186706\n",
      "  0.00200029 -0.0040047  -0.01048821 -0.00650949  0.00163143  0.01576737\n",
      "  0.00239537  0.0009404   0.0089567  -0.00213163  0.00863161 -0.00410731\n",
      " -0.0045243   0.0094247  -0.00397147 -0.00146018  0.00437405 -0.00066146\n",
      " -0.00225241  0.01265335  0.0044433   0.00986126  0.00193485 -0.02439301\n",
      " -0.01919808  0.01044471 -0.01206134  0.01059494  0.0067806   0.0066033\n",
      "  0.00302292 -0.01188132  0.01476426  0.00130773 -0.0015694   0.00248375\n",
      " -0.00497379 -0.01907599 -0.00442321  0.00509176  0.01340879  0.00013177\n",
      " -0.00039569  0.00500017  0.00810448 -0.00247663 -0.01141964  0.00802049\n",
      "  0.00366018  0.0061138   0.00103694 -0.01277722 -0.00711095  0.00198041\n",
      "  0.00984325 -0.0043192  -0.01001845  0.02317914  0.00696603  0.00243952\n",
      " -0.0019254  -0.00038557 -0.00192986  0.00359938  0.00422563  0.00522528\n",
      " -0.00791219  0.00485681  0.00508712 -0.01020024  0.00307101 -0.01752843\n",
      " -0.01651849  0.0070077   0.00409157]\n"
     ]
    }
   ],
   "source": [
    "daily_log_returns_eqr = log_returns(adj_closings_eqr)\n",
    "print('daily_log_returns_eqr:\\n', daily_log_returns_eqr)"
   ]
  },
  {
   "cell_type": "markdown",
   "metadata": {},
   "source": [
    "## Annualize Daily Log Return Function"
   ]
  },
  {
   "cell_type": "markdown",
   "metadata": {},
   "source": [
    "14. Create a function that returns the daily rate of return\n",
    "\n",
    "    step 1. define a function named `annualize_log_return`\n",
    "    \n",
    "    step 2. create parameter for  `daily_log_returns`\n",
    "    \n",
    "    step 3. use `np.mean()` with the argument `daily_log_returns` to calculate the average daily return. Then set it to the variable name `average_daily_log_returns`\n",
    "    \n",
    "    step 4. then multiply `average_daily_log_returns` by 250 and set it to the variable `annualized_log_return`\n",
    "    \n",
    "    step 5. return `annualized_log_return`"
   ]
  },
  {
   "cell_type": "code",
   "execution_count": 61,
   "metadata": {},
   "outputs": [],
   "source": [
    "def annualize_log_return(daily_log_returns):\n",
    "    average_daily_log_returns = np.mean(daily_log_returns)\n",
    "    annualized_log_return = average_daily_log_returns * 250\n",
    "    return annualized_log_return"
   ]
  },
  {
   "cell_type": "markdown",
   "metadata": {},
   "source": [
    "## Calculate Annualize Daily Log Return for SBRA"
   ]
  },
  {
   "cell_type": "markdown",
   "metadata": {},
   "source": [
    "10. Call the function `annualize_log_return` with the arguments `daily_log_returns_sbra`. Set it to the variable `annualized_log_return_sbra`. Then print the results. "
   ]
  },
  {
   "cell_type": "code",
   "execution_count": 62,
   "metadata": {},
   "outputs": [
    {
     "name": "stdout",
     "output_type": "stream",
     "text": [
      "annualized_log_return_sbra = 0.5044563709645333\n"
     ]
    }
   ],
   "source": [
    "annualized_log_return_sbra = annualize_log_return(daily_log_returns_sbra)\n",
    "print('annualized_log_return_sbra =', annualized_log_return_sbra)"
   ]
  },
  {
   "cell_type": "markdown",
   "metadata": {},
   "source": [
    "## Calculate Annualize Daily Log Return for EQR"
   ]
  },
  {
   "cell_type": "markdown",
   "metadata": {},
   "source": [
    "11. Call the function `annualize_log_return` with the arguments `daily_log_returns_eqr`. Set it to the variable `annualized_log_return_eqr`. Then print the results. "
   ]
  },
  {
   "cell_type": "code",
   "execution_count": 63,
   "metadata": {},
   "outputs": [
    {
     "name": "stdout",
     "output_type": "stream",
     "text": [
      "annualized_log_return_eqr = 0.3855982155640554\n"
     ]
    }
   ],
   "source": [
    "annualized_log_return_eqr = annualize_log_return(daily_log_returns_eqr)\n",
    "print('annualized_log_return_eqr =', annualized_log_return_eqr)"
   ]
  },
  {
   "cell_type": "markdown",
   "metadata": {},
   "source": [
    "## Compare the Annualize Daily Log Return between EQR and SBRA"
   ]
  },
  {
   "cell_type": "markdown",
   "metadata": {},
   "source": [
    "12. Based on the differences between the Annualize Daily Log Return for EQR and SBRA, Which could be more profitable in the future and why?"
   ]
  },
  {
   "cell_type": "markdown",
   "metadata": {},
   "source": []
  },
  {
   "cell_type": "markdown",
   "metadata": {},
   "source": [
    "## Calculate Variance of Daily Log Return for SBRA"
   ]
  },
  {
   "cell_type": "markdown",
   "metadata": {},
   "source": [
    "13. Calculate the variance of the daily logarithmetic return for SBRA. Use the function `.var()` with the argument `log_daily_ror`. Set it to the variable `daily_varaince_sbra`. Then print the results. "
   ]
  },
  {
   "cell_type": "code",
   "execution_count": 68,
   "metadata": {},
   "outputs": [
    {
     "name": "stdout",
     "output_type": "stream",
     "text": [
      "daily_varaince_sbra = 0.0\n"
     ]
    }
   ],
   "source": [
    "daily_varaince_sbra = np.var(daily_log_returns_sbra)\n",
    "print('daily_varaince_sbra =', daily_varaince_sbra)"
   ]
  },
  {
   "cell_type": "markdown",
   "metadata": {},
   "source": [
    "## Calculate Variance of Daily Log Return for EQR"
   ]
  },
  {
   "cell_type": "markdown",
   "metadata": {},
   "source": [
    "14. Calculate the variance of the daily logarithmetic return for EQR. Use the function `.var()` with the argument `daily_log_returns_eqr`. Set it to the variable `daily_varaince_eqr`. Then print the results. "
   ]
  },
  {
   "cell_type": "code",
   "execution_count": 74,
   "metadata": {},
   "outputs": [
    {
     "name": "stdout",
     "output_type": "stream",
     "text": [
      "daily_varaince_eqr= 6.833881310511606e-05\n"
     ]
    }
   ],
   "source": [
    "daily_varaince_eqr = np.var(daily_log_returns_eqr)\n",
    "print('daily_varaince_eqr=', daily_varaince_eqr)"
   ]
  },
  {
   "cell_type": "markdown",
   "metadata": {},
   "source": [
    "## Compare the Variance of Daily Log Return between EQR and SBRA"
   ]
  },
  {
   "cell_type": "markdown",
   "metadata": {},
   "source": [
    "15. Explain which investment is more riskier based on the Variance of daily log return between EQR and SBRA ?"
   ]
  },
  {
   "cell_type": "markdown",
   "metadata": {},
   "source": []
  },
  {
   "cell_type": "markdown",
   "metadata": {},
   "source": [
    "## Calculate the Daily Standard Deviation for SBRA"
   ]
  },
  {
   "cell_type": "markdown",
   "metadata": {},
   "source": [
    "16. Calculate the Standard Deviation of the daily logarithmetic return for SBRA. Use the function `.std()` with the argument `daily_log_returns_sbra`. Set it to the variable `daily_sd_sbra`. Then print the results. "
   ]
  },
  {
   "cell_type": "code",
   "execution_count": 75,
   "metadata": {},
   "outputs": [
    {
     "name": "stdout",
     "output_type": "stream",
     "text": [
      "daily_sd_sbra = 0.013358228308816658\n"
     ]
    }
   ],
   "source": [
    "daily_sd_sbra = np.std(daily_log_returns_sbra)\n",
    "print('daily_sd_sbra =', daily_sd_sbra)"
   ]
  },
  {
   "cell_type": "markdown",
   "metadata": {},
   "source": [
    "## Calculate the Daily Standard Deviation for EQR"
   ]
  },
  {
   "cell_type": "markdown",
   "metadata": {},
   "source": [
    "17. Calculate the Standard Deviation of the daily logarithmetic return for EQR. Use the function `.std()` with the argument `daily_log_returns_eqr`. Set it to the variable `daily_sd_eqr`. Then print the results. "
   ]
  },
  {
   "cell_type": "code",
   "execution_count": 77,
   "metadata": {},
   "outputs": [
    {
     "name": "stdout",
     "output_type": "stream",
     "text": [
      "daily_sd_eqr = 0.00826672928703463\n"
     ]
    }
   ],
   "source": [
    "daily_sd_eqr = np.std(daily_log_returns_eqr)\n",
    "print('daily_sd_eqr =', daily_sd_eqr)"
   ]
  },
  {
   "cell_type": "markdown",
   "metadata": {},
   "source": [
    "## Compare the Daily Standard Deviation between EQR and SBRA"
   ]
  },
  {
   "cell_type": "markdown",
   "metadata": {},
   "source": [
    "18. Has your previous variance risk assessment changed based on the Daily Standard Deviation and why?"
   ]
  },
  {
   "cell_type": "markdown",
   "metadata": {},
   "source": []
  },
  {
   "cell_type": "markdown",
   "metadata": {},
   "source": [
    "## Calculate the Correlation between SBRA and EQR"
   ]
  },
  {
   "cell_type": "markdown",
   "metadata": {},
   "source": [
    "19. Calculate the Correlation of the daily logarithmetic return between SBRA and ERQ assets. Use the function `.corrcoef()` with the arguments `daily_log_returns_sbra` and `daily_log_returns_eqr`. Set it to the variable `corr_sbra_eqr`. Then print the results. "
   ]
  },
  {
   "cell_type": "code",
   "execution_count": 79,
   "metadata": {},
   "outputs": [
    {
     "name": "stdout",
     "output_type": "stream",
     "text": [
      "corr_sbra_eqr:\n",
      " [[1.         0.62096591]\n",
      " [0.62096591 1.        ]]\n"
     ]
    }
   ],
   "source": [
    "corr_sbra_eqr = np.corrcoef(daily_log_returns_sbra, daily_log_returns_eqr)\n",
    "print('corr_sbra_eqr:\\n', corr_sbra_eqr)"
   ]
  },
  {
   "cell_type": "markdown",
   "metadata": {},
   "source": [
    "## Interpret the Correlation between SBRA and EQR"
   ]
  },
  {
   "cell_type": "markdown",
   "metadata": {},
   "source": [
    "20. Interpret and explain the correlation between the stocks SBRA and EQR?"
   ]
  },
  {
   "cell_type": "markdown",
   "metadata": {},
   "source": [
    "## Final Analysis"
   ]
  },
  {
   "cell_type": "markdown",
   "metadata": {},
   "source": [
    "21. Which stock would you invest in based on risk and profitability?"
   ]
  }
 ],
 "metadata": {
  "kernelspec": {
   "display_name": "Python 3",
   "language": "python",
   "name": "python3"
  },
  "language_info": {
   "codemirror_mode": {
    "name": "ipython",
    "version": 3
   },
   "file_extension": ".py",
   "mimetype": "text/x-python",
   "name": "python",
   "nbconvert_exporter": "python",
   "pygments_lexer": "ipython3",
   "version": "3.7.3"
  },
  "latex_envs": {
   "LaTeX_envs_menu_present": true,
   "autoclose": false,
   "autocomplete": true,
   "bibliofile": "biblio.bib",
   "cite_by": "apalike",
   "current_citInitial": 1,
   "eqLabelWithNumbers": true,
   "eqNumInitial": 1,
   "hotkeys": {
    "equation": "Ctrl-E",
    "itemize": "Ctrl-I"
   },
   "labels_anchors": false,
   "latex_user_defs": false,
   "report_style_numbering": false,
   "user_envs_cfg": false
  }
 },
 "nbformat": 4,
 "nbformat_minor": 2
}
